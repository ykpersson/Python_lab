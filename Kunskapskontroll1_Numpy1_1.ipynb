{
 "cells": [
  {
   "cell_type": "code",
   "execution_count": 26,
   "id": "5b6ee2f4",
   "metadata": {},
   "outputs": [
    {
     "data": {
      "text/plain": [
       "array([[ 1,  2,  3,  4,  5],\n",
       "       [ 6,  7,  8,  9, 10],\n",
       "       [11, 12, 13, 14, 15]])"
      ]
     },
     "execution_count": 26,
     "metadata": {},
     "output_type": "execute_result"
    }
   ],
   "source": [
    "import numpy as np\n",
    "A = np.arange(1, 16).reshape(3,5)\n",
    "A"
   ]
  },
  {
   "cell_type": "markdown",
   "id": "35cb882f",
   "metadata": {},
   "source": [
    "Print out the dimension, shape, size and datatype of the matrix A"
   ]
  },
  {
   "cell_type": "code",
   "execution_count": 8,
   "id": "e556bfc1",
   "metadata": {},
   "outputs": [
    {
     "data": {
      "text/plain": [
       "2"
      ]
     },
     "execution_count": 8,
     "metadata": {},
     "output_type": "execute_result"
    }
   ],
   "source": [
    "A.ndim"
   ]
  },
  {
   "cell_type": "code",
   "execution_count": 11,
   "id": "94ed799d",
   "metadata": {},
   "outputs": [
    {
     "data": {
      "text/plain": [
       "(3, 5)"
      ]
     },
     "execution_count": 11,
     "metadata": {},
     "output_type": "execute_result"
    }
   ],
   "source": [
    "A.shape"
   ]
  },
  {
   "cell_type": "code",
   "execution_count": 5,
   "id": "46e75423",
   "metadata": {},
   "outputs": [
    {
     "data": {
      "text/plain": [
       "15"
      ]
     },
     "execution_count": 5,
     "metadata": {},
     "output_type": "execute_result"
    }
   ],
   "source": [
    "A.size"
   ]
  },
  {
   "cell_type": "code",
   "execution_count": 146,
   "id": "18cf7bf0",
   "metadata": {},
   "outputs": [
    {
     "data": {
      "text/plain": [
       "dtype('int32')"
      ]
     },
     "execution_count": 146,
     "metadata": {},
     "output_type": "execute_result"
    }
   ],
   "source": [
    "A.dtype"
   ]
  },
  {
   "cell_type": "markdown",
   "id": "f16d3795",
   "metadata": {},
   "source": [
    "Skapa matris B och C och utför substration, multiplikation och matris multiplikation, standardsetting är elementwise för dessa grundläggande aritmetiska operationerna."
   ]
  },
  {
   "cell_type": "code",
   "execution_count": 24,
   "id": "7bbcef7d",
   "metadata": {},
   "outputs": [
    {
     "name": "stdout",
     "output_type": "stream",
     "text": [
      "[[1 2 3]\n",
      " [4 5 6]\n",
      " [7 8 9]]\n",
      "\n",
      "[[2. 2. 2.]\n",
      " [2. 2. 2.]\n",
      " [2. 2. 2.]]\n",
      "\n",
      "[[-1.  0.  1.]\n",
      " [ 2.  3.  4.]\n",
      " [ 5.  6.  7.]]\n",
      "\n",
      "[[ 2.  4.  6.]\n",
      " [ 8. 10. 12.]\n",
      " [14. 16. 18.]]\n",
      "\n",
      "[[12. 12. 12.]\n",
      " [30. 30. 30.]\n",
      " [48. 48. 48.]]\n"
     ]
    }
   ],
   "source": [
    "B = np.arange(1, 10).reshape(3, 3)\n",
    "C = np.ones((3, 3))*2\n",
    "print(B)\n",
    "print()\n",
    "print(C)\n",
    "D = B - C\n",
    "print()\n",
    "print(D)\n",
    "E = B * C\n",
    "print()\n",
    "print(E)\n",
    "F = B @ C\n",
    "print()\n",
    "print(F)"
   ]
  },
  {
   "cell_type": "code",
   "execution_count": 55,
   "id": "4ef3c39f",
   "metadata": {},
   "outputs": [
    {
     "name": "stdout",
     "output_type": "stream",
     "text": [
      "[[1 2 3]\n",
      " [4 5 6]\n",
      " [7 8 9]]\n"
     ]
    }
   ],
   "source": [
    "B = np.arange(1, 10).reshape(3, 3)\n",
    "print(B)"
   ]
  },
  {
   "cell_type": "markdown",
   "id": "390c0c1c",
   "metadata": {},
   "source": [
    "Exponentiate each number elementwise (use the np.exp function)."
   ]
  },
  {
   "cell_type": "code",
   "execution_count": 56,
   "id": "eba42e6e",
   "metadata": {},
   "outputs": [
    {
     "name": "stdout",
     "output_type": "stream",
     "text": [
      "[[2.71828183e+00 7.38905610e+00 2.00855369e+01]\n",
      " [5.45981500e+01 1.48413159e+02 4.03428793e+02]\n",
      " [1.09663316e+03 2.98095799e+03 8.10308393e+03]]\n"
     ]
    }
   ],
   "source": [
    "print(np.exp(B))"
   ]
  },
  {
   "cell_type": "markdown",
   "id": "5c81a3ae",
   "metadata": {},
   "source": [
    "Calculate the minimum value in the whole matrix."
   ]
  },
  {
   "cell_type": "code",
   "execution_count": 57,
   "id": "9db3382d",
   "metadata": {},
   "outputs": [
    {
     "name": "stdout",
     "output_type": "stream",
     "text": [
      "1\n"
     ]
    }
   ],
   "source": [
    "print(B.min())"
   ]
  },
  {
   "cell_type": "markdown",
   "id": "90dcd991",
   "metadata": {},
   "source": [
    "Calculcate the minimum value in each row."
   ]
  },
  {
   "cell_type": "code",
   "execution_count": 63,
   "id": "b71c220a",
   "metadata": {},
   "outputs": [
    {
     "name": "stdout",
     "output_type": "stream",
     "text": [
      "[1 4 7]\n"
     ]
    }
   ],
   "source": [
    "print(B.min(axis=1))"
   ]
  },
  {
   "cell_type": "markdown",
   "id": "b5cb1a8f",
   "metadata": {},
   "source": [
    "Calculcate the minimum value in each column."
   ]
  },
  {
   "cell_type": "code",
   "execution_count": 76,
   "id": "54dad758",
   "metadata": {},
   "outputs": [
    {
     "name": "stdout",
     "output_type": "stream",
     "text": [
      "[1 2 3]\n"
     ]
    }
   ],
   "source": [
    "print(B.min(axis=0))"
   ]
  },
  {
   "cell_type": "markdown",
   "id": "7317340b",
   "metadata": {},
   "source": [
    "Find the index value for the minimum value in the whole matrix "
   ]
  },
  {
   "cell_type": "code",
   "execution_count": 80,
   "id": "15aa239d",
   "metadata": {},
   "outputs": [
    {
     "name": "stdout",
     "output_type": "stream",
     "text": [
      "0\n"
     ]
    }
   ],
   "source": [
    "print(np.argmin(B))"
   ]
  },
  {
   "cell_type": "markdown",
   "id": "74912346",
   "metadata": {},
   "source": [
    "Find the index value for the minimum value in each row"
   ]
  },
  {
   "cell_type": "code",
   "execution_count": 87,
   "id": "520150bb",
   "metadata": {},
   "outputs": [
    {
     "name": "stdout",
     "output_type": "stream",
     "text": [
      "[0 0 0]\n"
     ]
    }
   ],
   "source": [
    "print(np.argmin(B, axis=1))"
   ]
  },
  {
   "cell_type": "markdown",
   "id": "7ed77a00",
   "metadata": {},
   "source": [
    "Calculate the sum for all elements."
   ]
  },
  {
   "cell_type": "code",
   "execution_count": 77,
   "id": "a10eccba",
   "metadata": {},
   "outputs": [
    {
     "name": "stdout",
     "output_type": "stream",
     "text": [
      "45\n"
     ]
    }
   ],
   "source": [
    "print(B.sum())"
   ]
  },
  {
   "cell_type": "markdown",
   "id": "2dbcff59",
   "metadata": {},
   "source": [
    "Calculate the mean for each column."
   ]
  },
  {
   "cell_type": "code",
   "execution_count": 73,
   "id": "8d2d640c",
   "metadata": {},
   "outputs": [
    {
     "name": "stdout",
     "output_type": "stream",
     "text": [
      "[4. 5. 6.]\n"
     ]
    }
   ],
   "source": [
    "print(np.mean(B,axis=0))"
   ]
  },
  {
   "cell_type": "markdown",
   "id": "e94ef9be",
   "metadata": {},
   "source": [
    "Calculate the median for each column."
   ]
  },
  {
   "cell_type": "code",
   "execution_count": 78,
   "id": "a4692e6b",
   "metadata": {},
   "outputs": [
    {
     "name": "stdout",
     "output_type": "stream",
     "text": [
      "[4. 5. 6.]\n"
     ]
    }
   ],
   "source": [
    "print(np.median(B, axis=0))"
   ]
  },
  {
   "cell_type": "markdown",
   "id": "a2e7205a",
   "metadata": {},
   "source": [
    "What does it mean when you provide fewer indices than axes when slicing? "
   ]
  },
  {
   "cell_type": "code",
   "execution_count": 88,
   "id": "74672462",
   "metadata": {},
   "outputs": [
    {
     "name": "stdout",
     "output_type": "stream",
     "text": [
      "[[ 1  2  3  4  5]\n",
      " [ 6  7  8  9 10]\n",
      " [11 12 13 14 15]]\n"
     ]
    }
   ],
   "source": [
    "A = np.arange(1, 16).reshape(3,5)\n",
    "print(A)\n"
   ]
  },
  {
   "cell_type": "code",
   "execution_count": 103,
   "id": "25095041",
   "metadata": {},
   "outputs": [
    {
     "name": "stdout",
     "output_type": "stream",
     "text": [
      "[1 2 3 4 5]\n",
      "\n",
      "[ 6  7  8  9 10]\n",
      "\n",
      "[11 12 13 14 15]\n"
     ]
    }
   ],
   "source": [
    "print(A[0])\n",
    "print()\n",
    "print(A[1])\n",
    "print()\n",
    "print(A[2])"
   ]
  },
  {
   "cell_type": "markdown",
   "id": "02a9aa7a",
   "metadata": {},
   "source": [
    "Om man indexerar med enbart ett elment [X] tas samtliga elmement från matrisen A med på rad X, så att säga en : det index som inte angivits, istället att peka ut ett enskilt element på pos[x][y], får man då hela raden som output."
   ]
  },
  {
   "cell_type": "markdown",
   "id": "ab5ee6a9",
   "metadata": {},
   "source": [
    "Iterating over multidimensional arrays is done with respect to the first axis, so in the example below we iterate trough the rows. If you would like to iterate through the array elementwise, how would you do that?"
   ]
  },
  {
   "cell_type": "code",
   "execution_count": 105,
   "id": "0ce0bdb3",
   "metadata": {},
   "outputs": [
    {
     "name": "stdout",
     "output_type": "stream",
     "text": [
      "[1 2 3 4 5]\n",
      "[ 6  7  8  9 10]\n",
      "[11 12 13 14 15]\n"
     ]
    }
   ],
   "source": [
    "A\n",
    "for i in A:\n",
    "    print(i)"
   ]
  },
  {
   "cell_type": "markdown",
   "id": "1358f2fe",
   "metadata": {},
   "source": [
    "Från NumPy quick start, hittas attibutet flat, initialt tänkte jag på den ineffektiva lösningen med dubbla for-loopar och indexering, men att platta ut matrisen är smidigare och jobba indirekt på size. Bra ide att matrisens form, kan i vissa situationer förändras, om position inte är viktigt."
   ]
  },
  {
   "cell_type": "code",
   "execution_count": 8,
   "id": "b6d881dc",
   "metadata": {},
   "outputs": [
    {
     "name": "stdout",
     "output_type": "stream",
     "text": [
      "1\n",
      "2\n",
      "3\n",
      "4\n",
      "5\n",
      "6\n",
      "7\n",
      "8\n",
      "9\n",
      "10\n",
      "11\n",
      "12\n",
      "13\n",
      "14\n",
      "15\n"
     ]
    }
   ],
   "source": [
    "import numpy as np\n",
    "A = np.arange(1, 16).reshape(3,5)\n",
    "\n",
    "for element in A.flat:\n",
    "    print(element)"
   ]
  },
  {
   "cell_type": "markdown",
   "id": "9afe3a84",
   "metadata": {},
   "source": [
    "Explain what the code below does. More specifically, b has three axes - what does this mean?"
   ]
  },
  {
   "cell_type": "code",
   "execution_count": 25,
   "id": "894874b7",
   "metadata": {},
   "outputs": [
    {
     "name": "stdout",
     "output_type": "stream",
     "text": [
      "[ 0  1  2  3  4  5  6  7  8  9 10 11 12 13 14 15 16 17 18 19 20 21 22 23\n",
      " 24 25 26 27 28 29]\n",
      "1\n",
      "\n",
      "[[[ 0  1  2  3  4]\n",
      "  [ 5  6  7  8  9]\n",
      "  [10 11 12 13 14]]\n",
      "\n",
      " [[15 16 17 18 19]\n",
      "  [20 21 22 23 24]\n",
      "  [25 26 27 28 29]]]\n"
     ]
    },
    {
     "data": {
      "text/plain": [
       "3"
      ]
     },
     "execution_count": 25,
     "metadata": {},
     "output_type": "execute_result"
    }
   ],
   "source": [
    "a = np.arange(30)\n",
    "b = a.reshape((2, 3, -1))\n",
    "print(a)\n",
    "print(a.ndim)\n",
    "print()\n",
    "print(b)\n",
    "b.ndim"
   ]
  },
  {
   "cell_type": "markdown",
   "id": "a59dea21",
   "metadata": {},
   "source": [
    "I första steget skapas en a, en 1-D matris, som innehåller talen 30 tal, 0-29, med hjälp av attributet reshape läses matrix a, retureras i modiferad form, och ges namnet b, och är en 3-D matrix."
   ]
  },
  {
   "cell_type": "markdown",
   "id": "b686c36d",
   "metadata": {},
   "source": [
    "Remark on Broadcasting when doing Linear Algebra calculations in Python.\n",
    "From the mathematical rules of matrix addition, the operation below (m1 + m2) does not make sense. The reason is that matrix addition requires two matrices of the same size. In Python however, it works due to broadcasting rules in NumPy. So you must be careful when doing Linear Algebra calculations in Python since they do not follow the \"mathematical rules\". This can however easily be handled by doing some simple programming, for example validating that two matrices have the same shape is easy if you for instance want to add two matrices."
   ]
  },
  {
   "cell_type": "code",
   "execution_count": null,
   "id": "b3196ead",
   "metadata": {},
   "outputs": [],
   "source": [
    "m1 = np.array([[1, 2], [3, 4]])\n",
    "m2 = np.array([1, 1])\n",
    "print(m1 + m2)"
   ]
  },
  {
   "cell_type": "markdown",
   "id": "4301c04b",
   "metadata": {},
   "source": [
    "The example below would also not be allowed if following the \"mathematical rules\" in Linear Algebra. But it works due to broadcasting in NumPy."
   ]
  },
  {
   "cell_type": "code",
   "execution_count": null,
   "id": "72f8c5e9",
   "metadata": {},
   "outputs": [],
   "source": [
    "v1 = np.array([1, 2, 3])\n",
    "print(v1 + 1)"
   ]
  },
  {
   "cell_type": "code",
   "execution_count": null,
   "id": "f0467b4b",
   "metadata": {},
   "outputs": [],
   "source": [
    "A = np.arange(1, 5).reshape(2,2)\n",
    "print(A)\n",
    "\n",
    "b = np.array([2, 2])\n",
    "print(b)"
   ]
  },
  {
   "cell_type": "markdown",
   "id": "0879f463",
   "metadata": {},
   "source": [
    "Vector- and matrix algebra Exercises\n",
    "Now you are going to create a function that can be reused every time you add or multiply matrices. The function is created so that we do the addition and multiplication according to the rules of vector- and matrix algebra.\n",
    "\n",
    "Create a function \"add_mult_matrices\" that takes two matrices as input arguments (validate that the input are of the type numpy.ndarray by using the isinstance function), a third argument that is either 'add' or 'multiply' that specifies if you want to add or multiply the matrices (validate that the third argument is either 'add' or 'multiply'). When doing matrix addition, validate that the matrices have the same size. When doing matrix multiplication, validate that the sizes conform (i.e. number of columns in the first matrix is equal to the number of rows in the second matrix)."
   ]
  },
  {
   "cell_type": "code",
   "execution_count": 163,
   "id": "b37f07ea",
   "metadata": {},
   "outputs": [
    {
     "data": {
      "text/plain": [
       "array([[2, 6],\n",
       "       [4, 8]])"
      ]
     },
     "execution_count": 163,
     "metadata": {},
     "output_type": "execute_result"
    }
   ],
   "source": [
    "import numpy as np\n",
    "def add_multi_matrices(matrix1,matrix2,method):\n",
    "    \n",
    "    if isinstance(matrix1,np.ndarray) and isinstance(matrix2,np.ndarray):\n",
    "        if method == \"add\":\n",
    "            if matrix1.shape == matrix2.shape:\n",
    "                return matrix1 + matrix2\n",
    "            else:\n",
    "                print(\"The matrices can't be added together due to being formatted incorrectly\")\n",
    "        elif method == \"multiply\":\n",
    "            if matrix1.shape[1] == matrix2.shape[0]:\n",
    "                return matrix1 @ matrix2\n",
    "        else:\n",
    "            print(\"The matrices can't be multiplied due to being in the wrong format, undefined\")         \n",
    "    else:   \n",
    "        print(\"The matrices are of an invalid type, please correct the input\")\n",
    "add_multi_matrices(np.array([[1,2],[2,4]]),np.array([[1,4],[2,4]]),\"add\")                      "
   ]
  },
  {
   "cell_type": "code",
   "execution_count": 141,
   "id": "ffe52fc4",
   "metadata": {},
   "outputs": [
    {
     "data": {
      "text/plain": [
       "numpy.ndarray"
      ]
     },
     "execution_count": 141,
     "metadata": {},
     "output_type": "execute_result"
    }
   ],
   "source": [
    "import numpy as np\n",
    "x = np.array([[1,2],[2,4]])\n",
    "type(x)\n"
   ]
  },
  {
   "cell_type": "markdown",
   "id": "c5ade79f",
   "metadata": {},
   "source": [
    "Solve all the exercises in chapter 10.1 in the book \"Matematik för yrkeshögskolan\"."
   ]
  },
  {
   "cell_type": "markdown",
   "id": "94ef339a",
   "metadata": {},
   "source": [
    "Uppgift 10.1.1\n",
    "Defininera vektorn x = (4,3)\n",
    "\n",
    "a) Vilken dimension har vektorn x?"
   ]
  },
  {
   "cell_type": "code",
   "execution_count": 22,
   "id": "ba0bba57",
   "metadata": {},
   "outputs": [
    {
     "data": {
      "text/plain": [
       "1"
      ]
     },
     "execution_count": 22,
     "metadata": {},
     "output_type": "execute_result"
    }
   ],
   "source": [
    "import numpy as np\n",
    "x=np.array([4,3])\n",
    "x.ndim"
   ]
  },
  {
   "cell_type": "markdown",
   "id": "8a6d5091",
   "metadata": {},
   "source": [
    "b) Beräkna 5x"
   ]
  },
  {
   "cell_type": "code",
   "execution_count": 23,
   "id": "6a32fa2f",
   "metadata": {},
   "outputs": [
    {
     "name": "stdout",
     "output_type": "stream",
     "text": [
      "[20 15]\n"
     ]
    }
   ],
   "source": [
    "import numpy as np\n",
    "print(5*x)"
   ]
  },
  {
   "cell_type": "markdown",
   "id": "7a0527e8",
   "metadata": {},
   "source": [
    "c) Beräkna 3x"
   ]
  },
  {
   "cell_type": "code",
   "execution_count": 24,
   "id": "be043d58",
   "metadata": {},
   "outputs": [
    {
     "name": "stdout",
     "output_type": "stream",
     "text": [
      "[12  9]\n"
     ]
    }
   ],
   "source": [
    "import numpy as np\n",
    "print(3*x)"
   ]
  },
  {
   "cell_type": "markdown",
   "id": "427c580d",
   "metadata": {},
   "source": [
    "d) Beräkna 5x + 3x = 8x"
   ]
  },
  {
   "cell_type": "code",
   "execution_count": 27,
   "id": "a6cebe01",
   "metadata": {},
   "outputs": [
    {
     "name": "stdout",
     "output_type": "stream",
     "text": [
      "[32 24]\n"
     ]
    }
   ],
   "source": [
    "result = 5*x + 3*x\n",
    "print(result)"
   ]
  },
  {
   "cell_type": "markdown",
   "id": "28690767",
   "metadata": {},
   "source": [
    "e) Beräkna 8x, samma som ovan, och gav samma svar."
   ]
  },
  {
   "cell_type": "code",
   "execution_count": 26,
   "id": "3d4733d8",
   "metadata": {},
   "outputs": [
    {
     "name": "stdout",
     "output_type": "stream",
     "text": [
      "[32 24]\n"
     ]
    }
   ],
   "source": [
    "print(8*x)"
   ]
  },
  {
   "cell_type": "markdown",
   "id": "201fa4b4",
   "metadata": {},
   "source": [
    "f) Beräkna 4x - x = 3x"
   ]
  },
  {
   "cell_type": "code",
   "execution_count": 28,
   "id": "d5cf8d25",
   "metadata": {},
   "outputs": [
    {
     "name": "stdout",
     "output_type": "stream",
     "text": [
      "[12  9]\n"
     ]
    }
   ],
   "source": [
    "result = 4*x - 1*x\n",
    "print(result)"
   ]
  },
  {
   "cell_type": "markdown",
   "id": "e0cf5677",
   "metadata": {},
   "source": [
    "g) Beräkna X${^T}$"
   ]
  },
  {
   "cell_type": "code",
   "execution_count": 31,
   "id": "09c1c46c",
   "metadata": {},
   "outputs": [
    {
     "name": "stdout",
     "output_type": "stream",
     "text": [
      "[4 3]\n"
     ]
    }
   ],
   "source": [
    "x_trans=np.transpose(x)\n",
    "print(x_trans)"
   ]
  },
  {
   "cell_type": "markdown",
   "id": "16d115bc",
   "metadata": {},
   "source": [
    "h) Är X + X${^T}$ definerat ? Matriserna har olika storlek, en 1 x 2 och den andra är 2 x 1, dessa kan inte adderas, så inte definerat."
   ]
  },
  {
   "cell_type": "code",
   "execution_count": 4,
   "id": "b2b98c63",
   "metadata": {},
   "outputs": [
    {
     "name": "stdout",
     "output_type": "stream",
     "text": [
      "(1, 2)\n",
      "\n",
      "(2, 1)\n"
     ]
    }
   ],
   "source": [
    "import numpy as np\n",
    "x = np.array([[4,3]])\n",
    "print(np.shape(x))\n",
    "print()\n",
    "x_trans = np.transpose(x)\n",
    "print(np.shape(x_trans))"
   ]
  },
  {
   "cell_type": "markdown",
   "id": "d02bf9bb",
   "metadata": {},
   "source": [
    "i) Beräkna ||x||"
   ]
  },
  {
   "cell_type": "code",
   "execution_count": 33,
   "id": "9568a33b",
   "metadata": {},
   "outputs": [
    {
     "name": "stdout",
     "output_type": "stream",
     "text": [
      "5.0\n"
     ]
    }
   ],
   "source": [
    "norm_x = np.linalg.norm(x)\n",
    "print(norm_x)"
   ]
  },
  {
   "cell_type": "markdown",
   "id": "59233e55",
   "metadata": {},
   "source": [
    "Uppgift 10.1.2 Definiera vektorn v"
   ]
  },
  {
   "cell_type": "code",
   "execution_count": 35,
   "id": "5da371f4",
   "metadata": {},
   "outputs": [
    {
     "name": "stdout",
     "output_type": "stream",
     "text": [
      "[[ 3]\n",
      " [ 7]\n",
      " [ 0]\n",
      " [11]]\n"
     ]
    }
   ],
   "source": [
    "v = np.array([[3],[7],[0],[11]])\n",
    "print(v)"
   ]
  },
  {
   "cell_type": "markdown",
   "id": "fb12f1c6",
   "metadata": {},
   "source": [
    "a) vilken dimension har vektorn v?"
   ]
  },
  {
   "cell_type": "code",
   "execution_count": 36,
   "id": "bc08189f",
   "metadata": {},
   "outputs": [
    {
     "data": {
      "text/plain": [
       "2"
      ]
     },
     "execution_count": 36,
     "metadata": {},
     "output_type": "execute_result"
    }
   ],
   "source": [
    "v = np.array([[3],[7],[0],[11]])\n",
    "v.ndim"
   ]
  },
  {
   "cell_type": "markdown",
   "id": "96b28e04",
   "metadata": {},
   "source": [
    "b) Beräkna 2v"
   ]
  },
  {
   "cell_type": "code",
   "execution_count": 38,
   "id": "c7b8f179",
   "metadata": {},
   "outputs": [
    {
     "name": "stdout",
     "output_type": "stream",
     "text": [
      "[[ 6]\n",
      " [14]\n",
      " [ 0]\n",
      " [22]]\n"
     ]
    }
   ],
   "source": [
    "multi =2*v\n",
    "print(multi)\n"
   ]
  },
  {
   "cell_type": "markdown",
   "id": "d85ff399",
   "metadata": {},
   "source": [
    "c) Beräkna 5v + 2v = 7v"
   ]
  },
  {
   "cell_type": "code",
   "execution_count": 39,
   "id": "58154a1e",
   "metadata": {},
   "outputs": [
    {
     "name": "stdout",
     "output_type": "stream",
     "text": [
      "[[21]\n",
      " [49]\n",
      " [ 0]\n",
      " [77]]\n"
     ]
    }
   ],
   "source": [
    "multi =5 * v + 2 * v\n",
    "print(multi)"
   ]
  },
  {
   "cell_type": "markdown",
   "id": "a48cb6cc",
   "metadata": {},
   "source": [
    "d) Beräkna 4v - 2v = 2v"
   ]
  },
  {
   "cell_type": "code",
   "execution_count": 40,
   "id": "5fa1da96",
   "metadata": {},
   "outputs": [
    {
     "name": "stdout",
     "output_type": "stream",
     "text": [
      "[[ 6]\n",
      " [14]\n",
      " [ 0]\n",
      " [22]]\n"
     ]
    }
   ],
   "source": [
    "multi =4 * v - 2 * v\n",
    "print(multi)"
   ]
  },
  {
   "cell_type": "markdown",
   "id": "9243927a",
   "metadata": {},
   "source": [
    "e) Beräkna v${^T}$"
   ]
  },
  {
   "cell_type": "code",
   "execution_count": 41,
   "id": "c44863b8",
   "metadata": {},
   "outputs": [
    {
     "name": "stdout",
     "output_type": "stream",
     "text": [
      "[[ 3  7  0 11]]\n",
      "\n"
     ]
    },
    {
     "data": {
      "text/plain": [
       "2"
      ]
     },
     "execution_count": 41,
     "metadata": {},
     "output_type": "execute_result"
    }
   ],
   "source": [
    "v_trans = v.transpose()\n",
    "print(v_trans)\n",
    "print()\n",
    "v.ndim"
   ]
  },
  {
   "cell_type": "markdown",
   "id": "37a1e021",
   "metadata": {},
   "source": [
    "f) Beräkna ||v||"
   ]
  },
  {
   "cell_type": "code",
   "execution_count": 42,
   "id": "d343666f",
   "metadata": {},
   "outputs": [
    {
     "name": "stdout",
     "output_type": "stream",
     "text": [
      "13.379088160259652\n"
     ]
    }
   ],
   "source": [
    "v_norm = np.linalg.norm(v)\n",
    "print(v_norm)"
   ]
  },
  {
   "cell_type": "markdown",
   "id": "fc7dbc4c",
   "metadata": {},
   "source": [
    "Uppgift 10.1.3 definera vektorna v1 och v2"
   ]
  },
  {
   "cell_type": "code",
   "execution_count": 44,
   "id": "a757f42d",
   "metadata": {},
   "outputs": [],
   "source": [
    "import numpy as np\n",
    "v1 = np.array([4,3,1,5])\n",
    "v2 = np.array([2,3,1,1])"
   ]
  },
  {
   "cell_type": "markdown",
   "id": "283bcac6",
   "metadata": {},
   "source": [
    "a) Beräkna ||v1||"
   ]
  },
  {
   "cell_type": "code",
   "execution_count": 45,
   "id": "74055697",
   "metadata": {},
   "outputs": [
    {
     "name": "stdout",
     "output_type": "stream",
     "text": [
      "7.14142842854285\n"
     ]
    }
   ],
   "source": [
    "v1_norm = np.linalg.norm(v1)\n",
    "print(v1_norm)"
   ]
  },
  {
   "cell_type": "code",
   "execution_count": null,
   "id": "19a7111c",
   "metadata": {},
   "outputs": [],
   "source": [
    "b) Beräkna || v1 - v2||"
   ]
  },
  {
   "cell_type": "code",
   "execution_count": 46,
   "id": "1780df20",
   "metadata": {},
   "outputs": [
    {
     "name": "stdout",
     "output_type": "stream",
     "text": [
      "[2 0 0 4]\n",
      "4.47213595499958\n"
     ]
    }
   ],
   "source": [
    "vectorcalc = v1 - v2\n",
    "\n",
    "#Beräkningskontrollpunkt\n",
    "print(vectorcalc)\n",
    "\n",
    "big_norm = np.linalg.norm(vectorcalc)\n",
    "print(big_norm)"
   ]
  },
  {
   "cell_type": "markdown",
   "id": "74406039",
   "metadata": {},
   "source": [
    "Uppgift 10.2.1 Definiera matriserna A, B , C, D, E samt I"
   ]
  },
  {
   "cell_type": "code",
   "execution_count": 47,
   "id": "3dd82659",
   "metadata": {},
   "outputs": [],
   "source": [
    "import numpy as np\n",
    "A= np.array([[2,1,-1],[1,-1,1]])\n",
    "B= np.array([[4,-2,1],[2,-4,-2]])\n",
    "C= np.array([[1,2],[2,1]])\n",
    "D= np.array([[3,4],[4,3]])\n",
    "E= np.array([[1],[2]])\n",
    "I= np.array([[1,0],[0,1]])"
   ]
  },
  {
   "cell_type": "markdown",
   "id": "6705e154",
   "metadata": {},
   "source": [
    "a) Beräkna 2A"
   ]
  },
  {
   "cell_type": "code",
   "execution_count": 6,
   "id": "447b6fba",
   "metadata": {},
   "outputs": [
    {
     "name": "stdout",
     "output_type": "stream",
     "text": [
      "[[ 4  2 -2]\n",
      " [ 2 -2  2]]\n"
     ]
    }
   ],
   "source": [
    "A2= 2*A\n",
    "print(A2)"
   ]
  },
  {
   "cell_type": "markdown",
   "id": "7983b3eb",
   "metadata": {},
   "source": [
    "b) Beräkna B - 2A"
   ]
  },
  {
   "cell_type": "code",
   "execution_count": 48,
   "id": "6708633d",
   "metadata": {},
   "outputs": [
    {
     "name": "stdout",
     "output_type": "stream",
     "text": [
      "[[ 0 -4  3]\n",
      " [ 0 -2 -4]]\n"
     ]
    }
   ],
   "source": [
    "calc= B - 2 * A\n",
    "print(calc)"
   ]
  },
  {
   "cell_type": "markdown",
   "id": "220d070a",
   "metadata": {},
   "source": [
    "c) Beräkna 3C - 2E, Substraktion mellan matriserna är inte definerad eftersom C är en 2 x 2 matris och E är en 1 x 2) matris, och matematiskt kräver substraktionen att matriserna ska vara av samma storlek, avseende både rad och kolumn, uttrycket är ej definiterat."
   ]
  },
  {
   "cell_type": "code",
   "execution_count": 49,
   "id": "7ca52646",
   "metadata": {},
   "outputs": [
    {
     "name": "stdout",
     "output_type": "stream",
     "text": [
      "(2, 2)\n",
      "\n",
      "(2, 1)\n"
     ]
    }
   ],
   "source": [
    "print(C.shape)\n",
    "print()\n",
    "print(E.shape)"
   ]
  },
  {
   "cell_type": "markdown",
   "id": "e5b55a81",
   "metadata": {},
   "source": [
    "d) Beräkna 2D - 3C"
   ]
  },
  {
   "cell_type": "code",
   "execution_count": 50,
   "id": "95aa4548",
   "metadata": {},
   "outputs": [
    {
     "name": "stdout",
     "output_type": "stream",
     "text": [
      "[[3 2]\n",
      " [2 3]]\n"
     ]
    }
   ],
   "source": [
    "calc= 2 * D - 3 * C\n",
    "print(calc)"
   ]
  },
  {
   "cell_type": "markdown",
   "id": "0854952a",
   "metadata": {},
   "source": [
    "e) Beräkna D${^T}$ + 2D"
   ]
  },
  {
   "cell_type": "code",
   "execution_count": 51,
   "id": "993b5278",
   "metadata": {
    "scrolled": true
   },
   "outputs": [
    {
     "name": "stdout",
     "output_type": "stream",
     "text": [
      "[[ 9 12]\n",
      " [12  9]]\n"
     ]
    }
   ],
   "source": [
    "D_trans = np.transpose(D)\n",
    "calc = D_trans + 2 * D\n",
    "print(calc)"
   ]
  },
  {
   "cell_type": "markdown",
   "id": "08ccc76e",
   "metadata": {},
   "source": [
    "f) Beräkna 2C${^T}$- 2D${^T}$"
   ]
  },
  {
   "cell_type": "code",
   "execution_count": 52,
   "id": "eea34826",
   "metadata": {},
   "outputs": [
    {
     "name": "stdout",
     "output_type": "stream",
     "text": [
      "[[-4 -4]\n",
      " [-4 -4]]\n"
     ]
    }
   ],
   "source": [
    "C_trans = np.transpose(C)\n",
    "D_trans = np.transpose(D)\n",
    "calc = 2 * C_trans -2 * D_trans\n",
    "print(calc)"
   ]
  },
  {
   "cell_type": "markdown",
   "id": "998b03ef",
   "metadata": {},
   "source": [
    "g) Beräkna A${^T}$ - B  Subtraktionen av dessa matiser är inte möjligt eftersom A transposant är en 3x2 matris och B är en 2x3 matris, och vid addition och substraktion måste matriserna vara av samma shape."
   ]
  },
  {
   "cell_type": "code",
   "execution_count": 53,
   "id": "8fa602ad",
   "metadata": {},
   "outputs": [
    {
     "name": "stdout",
     "output_type": "stream",
     "text": [
      "(3, 2)\n",
      "\n",
      "(2, 3)\n"
     ]
    }
   ],
   "source": [
    "A_trans = np.transpose(A)\n",
    "print(A_trans.shape)\n",
    "print()\n",
    "print(B.shape)"
   ]
  },
  {
   "cell_type": "markdown",
   "id": "48f49a08",
   "metadata": {},
   "source": [
    "h) Beräkna AC,  Matris is a 2 x 3 matrix, while C is a 2 x 2 matris, the number of coloums in the first matrix need be the same as the number of rows in the second matrix, so matrix multiplication of AC isn't defined."
   ]
  },
  {
   "cell_type": "code",
   "execution_count": 54,
   "id": "0dc38fa4",
   "metadata": {},
   "outputs": [
    {
     "name": "stdout",
     "output_type": "stream",
     "text": [
      "(2, 3)\n",
      "\n",
      "(2, 2)\n"
     ]
    }
   ],
   "source": [
    "print(A.shape)\n",
    "print()\n",
    "print(C.shape)"
   ]
  },
  {
   "cell_type": "markdown",
   "id": "e22db782",
   "metadata": {},
   "source": [
    "i) Beräkna CD"
   ]
  },
  {
   "cell_type": "code",
   "execution_count": 55,
   "id": "1509b181",
   "metadata": {},
   "outputs": [
    {
     "name": "stdout",
     "output_type": "stream",
     "text": [
      "[[11 10]\n",
      " [10 11]]\n"
     ]
    }
   ],
   "source": [
    "result = C @ D\n",
    "print(result)"
   ]
  },
  {
   "cell_type": "markdown",
   "id": "75fefdd1",
   "metadata": {},
   "source": [
    "j) Beräkna CB"
   ]
  },
  {
   "cell_type": "code",
   "execution_count": 56,
   "id": "78184bd0",
   "metadata": {},
   "outputs": [
    {
     "name": "stdout",
     "output_type": "stream",
     "text": [
      "[[  8 -10  -3]\n",
      " [ 10  -8   0]]\n"
     ]
    }
   ],
   "source": [
    "result = C @ B\n",
    "print(result)"
   ]
  },
  {
   "cell_type": "markdown",
   "id": "12500fb2",
   "metadata": {},
   "source": [
    "k) Beräkna CI"
   ]
  },
  {
   "cell_type": "code",
   "execution_count": 57,
   "id": "2aabc75d",
   "metadata": {},
   "outputs": [
    {
     "name": "stdout",
     "output_type": "stream",
     "text": [
      "[[1 2]\n",
      " [2 1]]\n"
     ]
    }
   ],
   "source": [
    "result = C @ I\n",
    "print(result)"
   ]
  },
  {
   "cell_type": "markdown",
   "id": "ca6c8a8a",
   "metadata": {},
   "source": [
    "l) Beräkna AB${^T}$"
   ]
  },
  {
   "cell_type": "code",
   "execution_count": 58,
   "id": "899717d9",
   "metadata": {},
   "outputs": [
    {
     "name": "stdout",
     "output_type": "stream",
     "text": [
      "[[5 2]\n",
      " [7 4]]\n"
     ]
    }
   ],
   "source": [
    "b_trans = np.transpose(B)\n",
    "result = A @ b_trans\n",
    "print(result)"
   ]
  },
  {
   "cell_type": "markdown",
   "id": "fda9ca9f",
   "metadata": {},
   "source": [
    "Uppgift 10.2.2 Definiera matrisen A, och beräkna AA${^T}$"
   ]
  },
  {
   "cell_type": "code",
   "execution_count": 59,
   "id": "c4e01a12",
   "metadata": {},
   "outputs": [
    {
     "name": "stdout",
     "output_type": "stream",
     "text": [
      "[[6 0]\n",
      " [0 3]]\n"
     ]
    }
   ],
   "source": [
    "A_trans= np.transpose(A)\n",
    "result = A @ A_trans\n",
    "print(result)"
   ]
  },
  {
   "cell_type": "markdown",
   "id": "6d206270",
   "metadata": {},
   "source": [
    "Uppgift 10.2.3 Definiera matriserna A, B samt C "
   ]
  },
  {
   "cell_type": "code",
   "execution_count": 6,
   "id": "d6e96950",
   "metadata": {},
   "outputs": [
    {
     "name": "stdout",
     "output_type": "stream",
     "text": [
      "[[ 4  7]\n",
      " [ 8 14]]\n",
      "\n",
      "[[ 4  7]\n",
      " [ 8 14]]\n",
      "\n",
      "True\n",
      "\n",
      "[[2 1]\n",
      " [1 3]]\n",
      "\n",
      "[[4 3]\n",
      " [0 2]]\n",
      "\n",
      "False\n"
     ]
    }
   ],
   "source": [
    "import numpy as np\n",
    "A = np.array([[1,2],[2,4]])\n",
    "B = np.array([[2,1],[1,3]])\n",
    "C = np.array([[4,3],[0,2]])\n",
    "AB = A @ B\n",
    "print(AB)\n",
    "print()\n",
    "AC = A @ C\n",
    "print(AC)\n",
    "print()\n",
    "#The result from multiplication of AB is equal to the multiplication of AC\n",
    "print(np.array_equal(AB,AC))\n",
    "print()\n",
    "print(B)\n",
    "print()\n",
    "print(C)\n",
    "print()\n",
    "# Matris B and C are not identical\n",
    "print(np.array_equal(B,C))"
   ]
  },
  {
   "cell_type": "markdown",
   "id": "559f4247",
   "metadata": {},
   "source": [
    "Copies and Views\n",
    "Read the following link: https://numpy.org/doc/stable/user/basics.copies.html\n",
    "\n",
    "Basic indexing creates a view, How can you check if v1 and v2 is a view or copy? If you change the last element in v2 to 123, will the last element in v1 be changed? Why?"
   ]
  },
  {
   "cell_type": "code",
   "execution_count": 171,
   "id": "548550ed",
   "metadata": {},
   "outputs": [
    {
     "name": "stdout",
     "output_type": "stream",
     "text": [
      "[0 1 2 3]\n",
      "[2 3]\n"
     ]
    }
   ],
   "source": [
    "v1 = np.arange(4)\n",
    "v2 = v1[-2:]\n",
    "print(v1)\n",
    "print(v2)"
   ]
  },
  {
   "cell_type": "code",
   "execution_count": 172,
   "id": "33452740",
   "metadata": {},
   "outputs": [
    {
     "name": "stdout",
     "output_type": "stream",
     "text": [
      "None\n",
      "[0 1 2 3]\n"
     ]
    }
   ],
   "source": [
    "# The base attribute of a view returns the original array while it returns None for a copy.\n",
    "print(v1.base)\n",
    "print(v2.base)\n"
   ]
  },
  {
   "cell_type": "markdown",
   "id": "f60be574",
   "metadata": {},
   "source": [
    "Det kontrollerar man med hjälp av attibutet base, och i detta fallet är v1 är en copy, då den returnerer output \"None\", och v2 är view (eftersom den returnera vektorn som output."
   ]
  },
  {
   "cell_type": "code",
   "execution_count": 173,
   "id": "f85c3a2c",
   "metadata": {},
   "outputs": [
    {
     "name": "stdout",
     "output_type": "stream",
     "text": [
      "[  0   1   2 123]\n",
      "[  2 123]\n"
     ]
    }
   ],
   "source": [
    "# The last element in v1 will be changed aswell since v2 is a view, meaning they share the same data buffer.\n",
    "v2[-1] = 123\n",
    "print(v1)\n",
    "print(v2)"
   ]
  },
  {
   "cell_type": "markdown",
   "id": "b70fbfcc",
   "metadata": {},
   "source": [
    "Om man ändra sista elementet i v2 till 123, så kommer elementet även att ändras i v1, vilket man ser i koden ovan, både har samma element 123 sist i matrisen.\n",
    "\n",
    "Copy är v1, är den nya vektorn och v2 är en en view av orginalvektorn, copy så att säga äger datan. Det gäller också ändringar i view påverkar både copy och view, illustreras ovan, och det är eftersom view inte äger datan utan ändringar där påverka båda två, sista elementet är 123 för både nu."
   ]
  }
 ],
 "metadata": {
  "kernelspec": {
   "display_name": "Python 3 (ipykernel)",
   "language": "python",
   "name": "python3"
  },
  "language_info": {
   "codemirror_mode": {
    "name": "ipython",
    "version": 3
   },
   "file_extension": ".py",
   "mimetype": "text/x-python",
   "name": "python",
   "nbconvert_exporter": "python",
   "pygments_lexer": "ipython3",
   "version": "3.9.12"
  }
 },
 "nbformat": 4,
 "nbformat_minor": 5
}
